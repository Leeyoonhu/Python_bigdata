{
 "cells": [
  {
   "cell_type": "code",
   "execution_count": 2,
   "id": "46d163e8",
   "metadata": {},
   "outputs": [],
   "source": [
    "# 전이 네트워크\n",
    "from tensorflow.keras import models, layers, optimizers\n",
    "from tensorflow.keras.preprocessing.image import ImageDataGenerator\n",
    "from tensorflow.keras.callbacks import EarlyStopping\n",
    "from tensorflow.keras.applications import VGG16\n",
    "import matplotlib.pyplot as plt\n",
    "import numpy as np\n",
    "import os\n",
    "os.environ['KMP_DUPLICATE_LIB_OK']='TRUE'"
   ]
  },
  {
   "cell_type": "code",
   "execution_count": 3,
   "id": "f01da8f2",
   "metadata": {},
   "outputs": [
    {
     "name": "stdout",
     "output_type": "stream",
     "text": [
      "Found 160 images belonging to 2 classes.\n",
      "Found 120 images belonging to 2 classes.\n"
     ]
    }
   ],
   "source": [
    "train_datagen = ImageDataGenerator(rescale=1./255, horizontal_flip=True, width_shift_range=0.1, height_shift_range=0.1)\n",
    "test_datagen = ImageDataGenerator(rescale=1./255)\n",
    "train_generator = train_datagen.flow_from_directory('./deep-learning/data/train', target_size=(150, 150), batch_size=5, class_mode='binary')\n",
    "test_generator = test_datagen.flow_from_directory('./deep-learning/data/test', target_size=(150, 150), batch_size=5, class_mode='binary')"
   ]
  },
  {
   "cell_type": "code",
   "execution_count": 4,
   "id": "da99e781",
   "metadata": {},
   "outputs": [
    {
     "name": "stdout",
     "output_type": "stream",
     "text": [
      "Downloading data from https://storage.googleapis.com/tensorflow/keras-applications/vgg16/vgg16_weights_tf_dim_ordering_tf_kernels_notop.h5\n",
      "58889256/58889256 [==============================] - 1s 0us/step\n"
     ]
    }
   ],
   "source": [
    "# transfer 모델을 새로 만들자\n",
    "transfer_model = VGG16(weights='imagenet', include_top=False, input_shape=(150, 150, 3))"
   ]
  },
  {
   "cell_type": "code",
   "execution_count": 5,
   "id": "fd6b3108",
   "metadata": {},
   "outputs": [
    {
     "name": "stdout",
     "output_type": "stream",
     "text": [
      "Model: \"vgg16\"\n",
      "_________________________________________________________________\n",
      " Layer (type)                Output Shape              Param #   \n",
      "=================================================================\n",
      " input_1 (InputLayer)        [(None, 150, 150, 3)]     0         \n",
      "                                                                 \n",
      " block1_conv1 (Conv2D)       (None, 150, 150, 64)      1792      \n",
      "                                                                 \n",
      " block1_conv2 (Conv2D)       (None, 150, 150, 64)      36928     \n",
      "                                                                 \n",
      " block1_pool (MaxPooling2D)  (None, 75, 75, 64)        0         \n",
      "                                                                 \n",
      " block2_conv1 (Conv2D)       (None, 75, 75, 128)       73856     \n",
      "                                                                 \n",
      " block2_conv2 (Conv2D)       (None, 75, 75, 128)       147584    \n",
      "                                                                 \n",
      " block2_pool (MaxPooling2D)  (None, 37, 37, 128)       0         \n",
      "                                                                 \n",
      " block3_conv1 (Conv2D)       (None, 37, 37, 256)       295168    \n",
      "                                                                 \n",
      " block3_conv2 (Conv2D)       (None, 37, 37, 256)       590080    \n",
      "                                                                 \n",
      " block3_conv3 (Conv2D)       (None, 37, 37, 256)       590080    \n",
      "                                                                 \n",
      " block3_pool (MaxPooling2D)  (None, 18, 18, 256)       0         \n",
      "                                                                 \n",
      " block4_conv1 (Conv2D)       (None, 18, 18, 512)       1180160   \n",
      "                                                                 \n",
      " block4_conv2 (Conv2D)       (None, 18, 18, 512)       2359808   \n",
      "                                                                 \n",
      " block4_conv3 (Conv2D)       (None, 18, 18, 512)       2359808   \n",
      "                                                                 \n",
      " block4_pool (MaxPooling2D)  (None, 9, 9, 512)         0         \n",
      "                                                                 \n",
      " block5_conv1 (Conv2D)       (None, 9, 9, 512)         2359808   \n",
      "                                                                 \n",
      " block5_conv2 (Conv2D)       (None, 9, 9, 512)         2359808   \n",
      "                                                                 \n",
      " block5_conv3 (Conv2D)       (None, 9, 9, 512)         2359808   \n",
      "                                                                 \n",
      " block5_pool (MaxPooling2D)  (None, 4, 4, 512)         0         \n",
      "                                                                 \n",
      "=================================================================\n",
      "Total params: 14,714,688\n",
      "Trainable params: 0\n",
      "Non-trainable params: 14,714,688\n",
      "_________________________________________________________________\n"
     ]
    }
   ],
   "source": [
    "transfer_model.trainable=False\n",
    "transfer_model.summary()"
   ]
  },
  {
   "cell_type": "code",
   "execution_count": 6,
   "id": "cfe3e606",
   "metadata": {},
   "outputs": [
    {
     "name": "stdout",
     "output_type": "stream",
     "text": [
      "Model: \"sequential\"\n",
      "_________________________________________________________________\n",
      " Layer (type)                Output Shape              Param #   \n",
      "=================================================================\n",
      " vgg16 (Functional)          (None, 4, 4, 512)         14714688  \n",
      "                                                                 \n",
      " flatten (Flatten)           (None, 8192)              0         \n",
      "                                                                 \n",
      " dense (Dense)               (None, 64)                524352    \n",
      "                                                                 \n",
      " dropout (Dropout)           (None, 64)                0         \n",
      "                                                                 \n",
      " dense_1 (Dense)             (None, 1)                 65        \n",
      "                                                                 \n",
      "=================================================================\n",
      "Total params: 15,239,105\n",
      "Trainable params: 524,417\n",
      "Non-trainable params: 14,714,688\n",
      "_________________________________________________________________\n"
     ]
    }
   ],
   "source": [
    "# 파인튜닝을 해야함\n",
    "finetune_model = models.Sequential()\n",
    "finetune_model.add(transfer_model)\n",
    "finetune_model.add(layers.Flatten())\n",
    "finetune_model.add(layers.Dense(64, activation='relu'))\n",
    "finetune_model.add(layers.Dropout(0.5))\n",
    "finetune_model.add(layers.Dense(1, activation='sigmoid'))\n",
    "finetune_model.summary()"
   ]
  },
  {
   "cell_type": "code",
   "execution_count": 7,
   "id": "fd28c50e",
   "metadata": {},
   "outputs": [],
   "source": [
    "finetune_model.compile(loss='binary_crossentropy', optimizer=optimizers.Adam(learning_rate=0.0002), metrics=['accuracy'])\n",
    "early_stopping=EarlyStopping(monitor='val_loss', patience=5)"
   ]
  },
  {
   "cell_type": "code",
   "execution_count": 8,
   "id": "8b788b4b",
   "metadata": {},
   "outputs": [
    {
     "name": "stdout",
     "output_type": "stream",
     "text": [
      "Epoch 1/100\n",
      "32/32 [==============================] - 19s 567ms/step - loss: 0.7131 - accuracy: 0.6062 - val_loss: 0.5674 - val_accuracy: 0.8167\n",
      "Epoch 2/100\n",
      "32/32 [==============================] - 20s 647ms/step - loss: 0.5615 - accuracy: 0.7250 - val_loss: 0.5001 - val_accuracy: 0.8500\n",
      "Epoch 3/100\n",
      "32/32 [==============================] - 20s 645ms/step - loss: 0.4853 - accuracy: 0.8125 - val_loss: 0.4189 - val_accuracy: 0.8833\n",
      "Epoch 4/100\n",
      "32/32 [==============================] - 20s 634ms/step - loss: 0.4150 - accuracy: 0.8500 - val_loss: 0.3607 - val_accuracy: 0.9083\n",
      "Epoch 5/100\n",
      "32/32 [==============================] - 21s 656ms/step - loss: 0.3385 - accuracy: 0.9000 - val_loss: 0.3203 - val_accuracy: 0.9000\n",
      "Epoch 6/100\n",
      "32/32 [==============================] - 19s 606ms/step - loss: 0.3066 - accuracy: 0.8938 - val_loss: 0.2918 - val_accuracy: 0.9000\n",
      "Epoch 7/100\n",
      "32/32 [==============================] - 21s 671ms/step - loss: 0.3000 - accuracy: 0.9250 - val_loss: 0.2666 - val_accuracy: 0.9417\n",
      "Epoch 8/100\n",
      "32/32 [==============================] - 19s 603ms/step - loss: 0.2647 - accuracy: 0.9187 - val_loss: 0.2686 - val_accuracy: 0.8917\n",
      "Epoch 9/100\n",
      "32/32 [==============================] - 20s 630ms/step - loss: 0.2497 - accuracy: 0.9312 - val_loss: 0.2361 - val_accuracy: 0.9333\n",
      "Epoch 10/100\n",
      "32/32 [==============================] - 21s 656ms/step - loss: 0.2388 - accuracy: 0.9312 - val_loss: 0.2565 - val_accuracy: 0.9000\n",
      "Epoch 11/100\n",
      "32/32 [==============================] - 19s 610ms/step - loss: 0.2395 - accuracy: 0.9125 - val_loss: 0.2269 - val_accuracy: 0.8917\n",
      "Epoch 12/100\n",
      "32/32 [==============================] - 19s 588ms/step - loss: 0.2024 - accuracy: 0.9563 - val_loss: 0.1903 - val_accuracy: 0.9167\n",
      "Epoch 13/100\n",
      "32/32 [==============================] - 19s 595ms/step - loss: 0.1926 - accuracy: 0.9438 - val_loss: 0.1823 - val_accuracy: 0.9333\n",
      "Epoch 14/100\n",
      "32/32 [==============================] - 19s 604ms/step - loss: 0.1781 - accuracy: 0.9563 - val_loss: 0.1695 - val_accuracy: 0.9500\n",
      "Epoch 15/100\n",
      "32/32 [==============================] - 18s 574ms/step - loss: 0.1637 - accuracy: 0.9438 - val_loss: 0.1749 - val_accuracy: 0.9333\n",
      "Epoch 16/100\n",
      "32/32 [==============================] - 18s 580ms/step - loss: 0.1958 - accuracy: 0.9375 - val_loss: 0.1866 - val_accuracy: 0.9333\n",
      "Epoch 17/100\n",
      "32/32 [==============================] - 18s 566ms/step - loss: 0.1714 - accuracy: 0.9625 - val_loss: 0.1582 - val_accuracy: 0.9667\n",
      "Epoch 18/100\n",
      "32/32 [==============================] - 19s 591ms/step - loss: 0.1552 - accuracy: 0.9688 - val_loss: 0.1592 - val_accuracy: 0.9250\n",
      "Epoch 19/100\n",
      "32/32 [==============================] - 19s 614ms/step - loss: 0.1931 - accuracy: 0.9312 - val_loss: 0.1772 - val_accuracy: 0.9333\n",
      "Epoch 20/100\n",
      "32/32 [==============================] - 20s 623ms/step - loss: 0.1505 - accuracy: 0.9688 - val_loss: 0.1545 - val_accuracy: 0.9250\n",
      "Epoch 21/100\n",
      "32/32 [==============================] - 19s 590ms/step - loss: 0.1444 - accuracy: 0.9688 - val_loss: 0.1948 - val_accuracy: 0.9083\n",
      "Epoch 22/100\n",
      "32/32 [==============================] - 20s 625ms/step - loss: 0.1295 - accuracy: 0.9625 - val_loss: 0.1328 - val_accuracy: 0.9583\n",
      "Epoch 23/100\n",
      "32/32 [==============================] - 18s 564ms/step - loss: 0.1313 - accuracy: 0.9563 - val_loss: 0.1310 - val_accuracy: 0.9583\n",
      "Epoch 24/100\n",
      "32/32 [==============================] - 18s 564ms/step - loss: 0.1482 - accuracy: 0.9625 - val_loss: 0.1567 - val_accuracy: 0.9333\n",
      "Epoch 25/100\n",
      "32/32 [==============================] - 18s 578ms/step - loss: 0.1541 - accuracy: 0.9500 - val_loss: 0.1352 - val_accuracy: 0.9500\n",
      "Epoch 26/100\n",
      "32/32 [==============================] - 18s 583ms/step - loss: 0.1171 - accuracy: 0.9688 - val_loss: 0.1716 - val_accuracy: 0.9250\n",
      "Epoch 27/100\n",
      "32/32 [==============================] - 18s 572ms/step - loss: 0.1264 - accuracy: 0.9750 - val_loss: 0.1859 - val_accuracy: 0.9083\n",
      "Epoch 28/100\n",
      "32/32 [==============================] - 19s 585ms/step - loss: 0.1100 - accuracy: 0.9750 - val_loss: 0.1320 - val_accuracy: 0.9500\n"
     ]
    }
   ],
   "source": [
    "history = finetune_model.fit(train_generator, epochs=100, validation_data=test_generator, callbacks=[early_stopping])"
   ]
  },
  {
   "cell_type": "code",
   "execution_count": 9,
   "id": "717b9d51",
   "metadata": {},
   "outputs": [
    {
     "data": {
      "image/png": "[encoded data removed]",
      "text/plain": [
       "<Figure size 640x480 with 1 Axes>"
      ]
     },
     "metadata": {},
     "output_type": "display_data"
    }
   ],
   "source": [
    "# 검증셋과 학습셋의 오차를 저장합니다.\n",
    "y_vloss = history.history['val_loss']\n",
    "y_loss = history.history['loss']\n",
    "\n",
    "# 그래프로 표현해 봅니다.\n",
    "x_len = np.arange(len(y_loss))\n",
    "plt.plot(x_len, y_vloss, marker='.', c=\"red\", label='Testset_loss')\n",
    "plt.plot(x_len, y_loss, marker='.', c=\"blue\", label='Trainset_loss')\n",
    "\n",
    "# 그래프에 그리드를 주고 레이블을 표시하겠습니다.\n",
    "plt.legend(loc='upper right')\n",
    "plt.grid()\n",
    "plt.xlabel('epoch')\n",
    "plt.ylabel('loss')\n",
    "plt.show()"
   ]
  }
 ],
 "metadata": {
  "kernelspec": {
   "display_name": "Python 3 (ipykernel)",
   "language": "python",
   "name": "python3"
  },
  "language_info": {
   "codemirror_mode": {
    "name": "ipython",
    "version": 3
   },
   "file_extension": ".py",
   "mimetype": "text/x-python",
   "name": "python",
   "nbconvert_exporter": "python",
   "pygments_lexer": "ipython3",
   "version": "3.8.13"
  }
 },
 "nbformat": 4,
 "nbformat_minor": 5
}
