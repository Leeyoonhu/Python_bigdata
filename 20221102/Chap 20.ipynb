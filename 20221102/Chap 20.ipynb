{
 "cells": [
  {
   "cell_type": "code",
   "execution_count": 1,
   "id": "4f6b7875",
   "metadata": {},
   "outputs": [],
   "source": [
    "from tensorflow.keras import models, layers, optimizers\n",
    "from tensorflow.keras.preprocessing.image import ImageDataGenerator\n",
    "from tensorflow.keras.callbacks import EarlyStopping\n",
    "import matplotlib.pyplot as plt\n",
    "import numpy as np\n",
    "import os\n",
    "os.environ['KMP_DUPLICATE_LIB_OK']='TRUE'"
   ]
  },
  {
   "cell_type": "code",
   "execution_count": 2,
   "id": "54333e3f",
   "metadata": {},
   "outputs": [
    {
     "name": "stdout",
     "output_type": "stream",
     "text": [
      "Found 160 images belonging to 2 classes.\n",
      "Found 120 images belonging to 2 classes.\n"
     ]
    }
   ],
   "source": [
    "# ImageDataGenerator (p308)\n",
    "# horizontal_flip=True  =>수평 대칭 이미지를 50%확률로 만들어 추가합니다\n",
    "# width_shift_range=0.1 , height_shift_range=0.1 > 전체 크기 15% 범위에서 좌우로 이동합니다.\n",
    "train_datagen = ImageDataGenerator(rescale=1./255, horizontal_flip=True, width_shift_range=0.1, height_shift_range=0.1)\n",
    "test_datagen = ImageDataGenerator(rescale=1./255)\n",
    "train_generator = train_datagen.flow_from_directory('./deep-learning/data/train', target_size=(150, 150), batch_size=5, class_mode='binary')\n",
    "test_generator = test_datagen.flow_from_directory('./deep-learning/data/test', target_size=(150, 150), batch_size=5, class_mode='binary')"
   ]
  },
  {
   "cell_type": "code",
   "execution_count": 3,
   "id": "e6fc8288",
   "metadata": {},
   "outputs": [],
   "source": [
    "# 모델 선언\n",
    "model = models.Sequential()\n",
    "model.add(layers.Conv2D(32, (3, 3), input_shape=(150, 150, 3), activation='relu'))\n",
    "model.add(layers.MaxPooling2D(pool_size=(2,2)))\n",
    "\n",
    "model.add(layers.Conv2D(32, (3, 3), activation='relu'))\n",
    "model.add(layers.MaxPooling2D(pool_size=(2,2)))\n",
    "\n",
    "model.add(layers.Conv2D(64, (3, 3), activation='relu'))\n",
    "model.add(layers.MaxPooling2D(pool_size=(2,2)))\n",
    "\n",
    "# Dense로 집어넣기 위해 Flatten() 으로 펼침\n",
    "model.add(layers.Flatten())\n",
    "model.add(layers.Dense(64, activation='relu'))\n",
    "model.add(layers.Dropout(0.5))\n",
    "\n",
    "# 이진 분류니까 시그모이드\n",
    "model.add(layers.Dense(1, activation='sigmoid'))"
   ]
  },
  {
   "cell_type": "code",
   "execution_count": 4,
   "id": "b59aae54",
   "metadata": {},
   "outputs": [
    {
     "name": "stdout",
     "output_type": "stream",
     "text": [
      "Model: \"sequential\"\n",
      "_________________________________________________________________\n",
      " Layer (type)                Output Shape              Param #   \n",
      "=================================================================\n",
      " conv2d (Conv2D)             (None, 148, 148, 32)      896       \n",
      "                                                                 \n",
      " max_pooling2d (MaxPooling2D  (None, 74, 74, 32)       0         \n",
      " )                                                               \n",
      "                                                                 \n",
      " conv2d_1 (Conv2D)           (None, 72, 72, 32)        9248      \n",
      "                                                                 \n",
      " max_pooling2d_1 (MaxPooling  (None, 36, 36, 32)       0         \n",
      " 2D)                                                             \n",
      "                                                                 \n",
      " conv2d_2 (Conv2D)           (None, 34, 34, 64)        18496     \n",
      "                                                                 \n",
      " max_pooling2d_2 (MaxPooling  (None, 17, 17, 64)       0         \n",
      " 2D)                                                             \n",
      "                                                                 \n",
      " flatten (Flatten)           (None, 18496)             0         \n",
      "                                                                 \n",
      " dense (Dense)               (None, 64)                1183808   \n",
      "                                                                 \n",
      " dropout (Dropout)           (None, 64)                0         \n",
      "                                                                 \n",
      " dense_1 (Dense)             (None, 1)                 65        \n",
      "                                                                 \n",
      "=================================================================\n",
      "Total params: 1,212,513\n",
      "Trainable params: 1,212,513\n",
      "Non-trainable params: 0\n",
      "_________________________________________________________________\n"
     ]
    }
   ],
   "source": [
    "model.summary()\n",
    "\n",
    "# (3x3x3) x (32) + 32 = 896  // 이미지 150 x150\n",
    "# 이미지 148 x 148\n",
    "# 32 x 4 x 32 + 32 = "
   ]
  },
  {
   "cell_type": "code",
   "execution_count": 5,
   "id": "7db0e6a7",
   "metadata": {},
   "outputs": [],
   "source": [
    "model.compile(loss='binary_crossentropy', optimizer=optimizers.Adam(learning_rate=0.0002), metrics=['accuracy'])\n",
    "early_stopping = EarlyStopping(monitor='val_loss', patience=5)"
   ]
  },
  {
   "cell_type": "code",
   "execution_count": 6,
   "id": "cbcdd565",
   "metadata": {},
   "outputs": [
    {
     "name": "stdout",
     "output_type": "stream",
     "text": [
      "Epoch 1/100\n",
      "32/32 [==============================] - 3s 61ms/step - loss: 0.7021 - accuracy: 0.4812 - val_loss: 0.6906 - val_accuracy: 0.5000\n",
      "Epoch 2/100\n",
      "32/32 [==============================] - 2s 54ms/step - loss: 0.6888 - accuracy: 0.4938 - val_loss: 0.6856 - val_accuracy: 0.5000\n",
      "Epoch 3/100\n",
      "32/32 [==============================] - 2s 54ms/step - loss: 0.6849 - accuracy: 0.5312 - val_loss: 0.6803 - val_accuracy: 0.5000\n",
      "Epoch 4/100\n",
      "32/32 [==============================] - 2s 55ms/step - loss: 0.6901 - accuracy: 0.5188 - val_loss: 0.6738 - val_accuracy: 0.5417\n",
      "Epoch 5/100\n",
      "32/32 [==============================] - 2s 56ms/step - loss: 0.6657 - accuracy: 0.5938 - val_loss: 0.6626 - val_accuracy: 0.6833\n",
      "Epoch 6/100\n",
      "32/32 [==============================] - 2s 55ms/step - loss: 0.6609 - accuracy: 0.6125 - val_loss: 0.6332 - val_accuracy: 0.5750\n",
      "Epoch 7/100\n",
      "32/32 [==============================] - 2s 55ms/step - loss: 0.6238 - accuracy: 0.6562 - val_loss: 0.6043 - val_accuracy: 0.6000\n",
      "Epoch 8/100\n",
      "32/32 [==============================] - 2s 56ms/step - loss: 0.6129 - accuracy: 0.6938 - val_loss: 0.5529 - val_accuracy: 0.8167\n",
      "Epoch 9/100\n",
      "32/32 [==============================] - 2s 55ms/step - loss: 0.6253 - accuracy: 0.6250 - val_loss: 0.5596 - val_accuracy: 0.6417\n",
      "Epoch 10/100\n",
      "32/32 [==============================] - 2s 56ms/step - loss: 0.5613 - accuracy: 0.7188 - val_loss: 0.4611 - val_accuracy: 0.8167\n",
      "Epoch 11/100\n",
      "32/32 [==============================] - 2s 55ms/step - loss: 0.5453 - accuracy: 0.7312 - val_loss: 0.4598 - val_accuracy: 0.7583\n",
      "Epoch 12/100\n",
      "32/32 [==============================] - 2s 56ms/step - loss: 0.4893 - accuracy: 0.7937 - val_loss: 0.5269 - val_accuracy: 0.6500\n",
      "Epoch 13/100\n",
      "32/32 [==============================] - 2s 56ms/step - loss: 0.4580 - accuracy: 0.7688 - val_loss: 0.3881 - val_accuracy: 0.8250\n",
      "Epoch 14/100\n",
      "32/32 [==============================] - 2s 55ms/step - loss: 0.4241 - accuracy: 0.8000 - val_loss: 0.3935 - val_accuracy: 0.8083\n",
      "Epoch 15/100\n",
      "32/32 [==============================] - 2s 56ms/step - loss: 0.4428 - accuracy: 0.7875 - val_loss: 0.3231 - val_accuracy: 0.8750\n",
      "Epoch 16/100\n",
      "32/32 [==============================] - 2s 56ms/step - loss: 0.3774 - accuracy: 0.8313 - val_loss: 0.2658 - val_accuracy: 0.9250\n",
      "Epoch 17/100\n",
      "32/32 [==============================] - 2s 57ms/step - loss: 0.3686 - accuracy: 0.8687 - val_loss: 0.3397 - val_accuracy: 0.8333\n",
      "Epoch 18/100\n",
      "32/32 [==============================] - 2s 57ms/step - loss: 0.3288 - accuracy: 0.8813 - val_loss: 0.1933 - val_accuracy: 0.9500\n",
      "Epoch 19/100\n",
      "32/32 [==============================] - 2s 56ms/step - loss: 0.2510 - accuracy: 0.9187 - val_loss: 0.1668 - val_accuracy: 0.9500\n",
      "Epoch 20/100\n",
      "32/32 [==============================] - 2s 56ms/step - loss: 0.2274 - accuracy: 0.9000 - val_loss: 0.2431 - val_accuracy: 0.9000\n",
      "Epoch 21/100\n",
      "32/32 [==============================] - 2s 57ms/step - loss: 0.2363 - accuracy: 0.9125 - val_loss: 0.1601 - val_accuracy: 0.9583\n",
      "Epoch 22/100\n",
      "32/32 [==============================] - 2s 56ms/step - loss: 0.2102 - accuracy: 0.9125 - val_loss: 0.1374 - val_accuracy: 0.9583\n",
      "Epoch 23/100\n",
      "32/32 [==============================] - 2s 56ms/step - loss: 0.2220 - accuracy: 0.9312 - val_loss: 0.1080 - val_accuracy: 0.9667\n",
      "Epoch 24/100\n",
      "32/32 [==============================] - 2s 57ms/step - loss: 0.2185 - accuracy: 0.9125 - val_loss: 0.1054 - val_accuracy: 0.9833\n",
      "Epoch 25/100\n",
      "32/32 [==============================] - 2s 56ms/step - loss: 0.1728 - accuracy: 0.9438 - val_loss: 0.1095 - val_accuracy: 0.9750\n",
      "Epoch 26/100\n",
      "32/32 [==============================] - 2s 56ms/step - loss: 0.1931 - accuracy: 0.9375 - val_loss: 0.1152 - val_accuracy: 0.9667\n",
      "Epoch 27/100\n",
      "32/32 [==============================] - 2s 57ms/step - loss: 0.1894 - accuracy: 0.9312 - val_loss: 0.0976 - val_accuracy: 0.9667\n",
      "Epoch 28/100\n",
      "32/32 [==============================] - 2s 57ms/step - loss: 0.1855 - accuracy: 0.9375 - val_loss: 0.0916 - val_accuracy: 0.9667\n",
      "Epoch 29/100\n",
      "32/32 [==============================] - 2s 58ms/step - loss: 0.2261 - accuracy: 0.9125 - val_loss: 0.0831 - val_accuracy: 0.9750\n",
      "Epoch 30/100\n",
      "32/32 [==============================] - 2s 56ms/step - loss: 0.1701 - accuracy: 0.9375 - val_loss: 0.0884 - val_accuracy: 0.9833\n",
      "Epoch 31/100\n",
      "32/32 [==============================] - 2s 56ms/step - loss: 0.1218 - accuracy: 0.9688 - val_loss: 0.0722 - val_accuracy: 0.9833\n",
      "Epoch 32/100\n",
      "32/32 [==============================] - 2s 60ms/step - loss: 0.1339 - accuracy: 0.9500 - val_loss: 0.0865 - val_accuracy: 0.9667\n",
      "Epoch 33/100\n",
      "32/32 [==============================] - 2s 57ms/step - loss: 0.1281 - accuracy: 0.9500 - val_loss: 0.1102 - val_accuracy: 0.9500\n",
      "Epoch 34/100\n",
      "32/32 [==============================] - 2s 57ms/step - loss: 0.1469 - accuracy: 0.9625 - val_loss: 0.0616 - val_accuracy: 0.9667\n",
      "Epoch 35/100\n",
      "32/32 [==============================] - 2s 56ms/step - loss: 0.1240 - accuracy: 0.9625 - val_loss: 0.0597 - val_accuracy: 0.9833\n",
      "Epoch 36/100\n",
      "32/32 [==============================] - 2s 57ms/step - loss: 0.1597 - accuracy: 0.9563 - val_loss: 0.0788 - val_accuracy: 0.9750\n",
      "Epoch 37/100\n",
      "32/32 [==============================] - 2s 57ms/step - loss: 0.1173 - accuracy: 0.9688 - val_loss: 0.0783 - val_accuracy: 0.9750\n",
      "Epoch 38/100\n",
      "32/32 [==============================] - 2s 57ms/step - loss: 0.1363 - accuracy: 0.9563 - val_loss: 0.0575 - val_accuracy: 0.9917\n",
      "Epoch 39/100\n",
      "32/32 [==============================] - 2s 57ms/step - loss: 0.1078 - accuracy: 0.9688 - val_loss: 0.0557 - val_accuracy: 0.9833\n",
      "Epoch 40/100\n",
      "32/32 [==============================] - 2s 57ms/step - loss: 0.1216 - accuracy: 0.9375 - val_loss: 0.0586 - val_accuracy: 0.9750\n",
      "Epoch 41/100\n",
      "32/32 [==============================] - 2s 57ms/step - loss: 0.0856 - accuracy: 0.9750 - val_loss: 0.0463 - val_accuracy: 0.9833\n",
      "Epoch 42/100\n",
      "32/32 [==============================] - 2s 58ms/step - loss: 0.1427 - accuracy: 0.9438 - val_loss: 0.0637 - val_accuracy: 0.9833\n",
      "Epoch 43/100\n",
      "32/32 [==============================] - 2s 58ms/step - loss: 0.1008 - accuracy: 0.9812 - val_loss: 0.0833 - val_accuracy: 0.9583\n",
      "Epoch 44/100\n",
      "32/32 [==============================] - 2s 57ms/step - loss: 0.1434 - accuracy: 0.9500 - val_loss: 0.0623 - val_accuracy: 0.9833\n",
      "Epoch 45/100\n",
      "32/32 [==============================] - 2s 57ms/step - loss: 0.1442 - accuracy: 0.9625 - val_loss: 0.0536 - val_accuracy: 0.9833\n",
      "Epoch 46/100\n",
      "32/32 [==============================] - 2s 57ms/step - loss: 0.1287 - accuracy: 0.9500 - val_loss: 0.1057 - val_accuracy: 0.9583\n"
     ]
    }
   ],
   "source": [
    "# 모델 실행\n",
    "history = model.fit(train_generator,epochs=100,\n",
    "                   validation_data=test_generator,\n",
    "                   callbacks=[early_stopping])"
   ]
  },
  {
   "cell_type": "code",
   "execution_count": 7,
   "id": "7c045102",
   "metadata": {},
   "outputs": [
    {
     "data": {
      "image/png": "[encoded data removed]",
      "text/plain": [
       "<Figure size 640x480 with 1 Axes>"
      ]
     },
     "metadata": {},
     "output_type": "display_data"
    }
   ],
   "source": [
    "# 검증셋과 학습셋의 오차를 저장합니다.\n",
    "y_vloss = history.history['val_loss']\n",
    "y_loss = history.history['loss']\n",
    "\n",
    "# 그래프로 표현해 봅니다.\n",
    "x_len = np.arange(len(y_loss))\n",
    "plt.plot(x_len, y_vloss, marker='.', c=\"red\", label='Testset_loss')\n",
    "plt.plot(x_len, y_loss, marker='.', c=\"blue\", label='Trainset_loss')\n",
    "\n",
    "# 그래프에 그리드를 주고 레이블을 표시하겠습니다.\n",
    "plt.legend(loc='upper right')\n",
    "plt.grid()\n",
    "plt.xlabel('epoch')\n",
    "plt.ylabel('loss')\n",
    "plt.show()"
   ]
  }
 ],
 "metadata": {
  "kernelspec": {
   "display_name": "Python 3 (ipykernel)",
   "language": "python",
   "name": "python3"
  },
  "language_info": {
   "codemirror_mode": {
    "name": "ipython",
    "version": 3
   },
   "file_extension": ".py",
   "mimetype": "text/x-python",
   "name": "python",
   "nbconvert_exporter": "python",
   "pygments_lexer": "ipython3",
   "version": "3.8.13"
  }
 },
 "nbformat": 4,
 "nbformat_minor": 5
}
