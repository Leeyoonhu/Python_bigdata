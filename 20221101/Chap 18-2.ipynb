{
 "cells": [
  {
   "cell_type": "code",
   "execution_count": 1,
   "id": "66402723",
   "metadata": {},
   "outputs": [],
   "source": [
    "# p269 LSTM, CNN의 조합을 이용한 영화 리뷰 분류하기\n",
    "from tensorflow.keras import models, layers\n",
    "from tensorflow.keras.utils import to_categorical\n",
    "from tensorflow.keras.preprocessing import sequence\n",
    "from tensorflow.keras.datasets import imdb\n",
    "from tensorflow.keras.callbacks import EarlyStopping\n",
    "import numpy as np\n",
    "import matplotlib.pyplot as plt\n",
    "import os\n",
    "os.environ[\"KMP_DUPLICATE_LIB_OK\"]=\"TRUE\""
   ]
  },
  {
   "cell_type": "code",
   "execution_count": 2,
   "id": "447246c3",
   "metadata": {},
   "outputs": [],
   "source": [
    "(X_train, y_train), (X_test, y_test) = imdb.load_data(num_words=1000)"
   ]
  },
  {
   "cell_type": "code",
   "execution_count": 3,
   "id": "a7535e14",
   "metadata": {},
   "outputs": [],
   "source": [
    "# 패딩\n",
    "X_train = sequence.pad_sequences(X_train, maxlen=500)\n",
    "X_test = sequence.pad_sequences(X_test, maxlen=500)"
   ]
  },
  {
   "cell_type": "code",
   "execution_count": 5,
   "id": "31054899",
   "metadata": {},
   "outputs": [],
   "source": [
    "model = models.Sequential()\n",
    "model.add(layers.Embedding(5000, 100))\n",
    "model.add(layers.Dropout(0.5))\n",
    "model.add(layers.Conv1D(64, 5, activation='relu'))\n",
    "model.add(layers.MaxPooling1D(pool_size=4))\n",
    "model.add(layers.LSTM(55))\n",
    "model.add(layers.Dense(1))\n",
    "model.add(layers.Activation('sigmoid'))"
   ]
  },
  {
   "cell_type": "code",
   "execution_count": 6,
   "id": "4fbb7282",
   "metadata": {},
   "outputs": [
    {
     "name": "stdout",
     "output_type": "stream",
     "text": [
      "Model: \"sequential_1\"\n",
      "_________________________________________________________________\n",
      " Layer (type)                Output Shape              Param #   \n",
      "=================================================================\n",
      " embedding_1 (Embedding)     (None, None, 100)         500000    \n",
      "                                                                 \n",
      " dropout_1 (Dropout)         (None, None, 100)         0         \n",
      "                                                                 \n",
      " conv1d_1 (Conv1D)           (None, None, 64)          32064     \n",
      "                                                                 \n",
      " max_pooling1d (MaxPooling1D  (None, None, 64)         0         \n",
      " )                                                               \n",
      "                                                                 \n",
      " lstm (LSTM)                 (None, 55)                26400     \n",
      "                                                                 \n",
      " dense (Dense)               (None, 1)                 56        \n",
      "                                                                 \n",
      " activation (Activation)     (None, 1)                 0         \n",
      "                                                                 \n",
      "=================================================================\n",
      "Total params: 558,520\n",
      "Trainable params: 558,520\n",
      "Non-trainable params: 0\n",
      "_________________________________________________________________\n"
     ]
    }
   ],
   "source": [
    "model.summary()\n",
    "\n",
    "# 5000 x 100 = 500000\n",
    "# 100 x 64 x 5 + 64 = 32064\n",
    "# maxpooling 1차원이라 영향x\n",
    "# ((64 + 55) x 55 + 55) x 4 = 26400\n",
    "# (55) x 1 + 1 = 56\n",
    "# dropout => 파라미터 영향 x"
   ]
  },
  {
   "cell_type": "code",
   "execution_count": 7,
   "id": "4cecaf6c",
   "metadata": {},
   "outputs": [],
   "source": [
    "model.compile(loss='binary_crossentropy', optimizer='adam', metrics=['accuracy'])\n",
    "early_stopping=EarlyStopping(monitor='val_loss', patience=5)"
   ]
  },
  {
   "cell_type": "code",
   "execution_count": 8,
   "id": "5f46d408",
   "metadata": {},
   "outputs": [
    {
     "name": "stdout",
     "output_type": "stream",
     "text": [
      "Epoch 1/100\n",
      "469/469 [==============================] - 49s 100ms/step - loss: 0.4545 - accuracy: 0.7696 - val_loss: 0.3367 - val_accuracy: 0.8605\n",
      "Epoch 2/100\n",
      "469/469 [==============================] - 47s 101ms/step - loss: 0.3203 - accuracy: 0.8654 - val_loss: 0.3224 - val_accuracy: 0.8664\n",
      "Epoch 3/100\n",
      "469/469 [==============================] - 47s 101ms/step - loss: 0.2920 - accuracy: 0.8783 - val_loss: 0.3061 - val_accuracy: 0.8686\n",
      "Epoch 4/100\n",
      "469/469 [==============================] - 48s 102ms/step - loss: 0.2745 - accuracy: 0.8856 - val_loss: 0.3128 - val_accuracy: 0.8677\n",
      "Epoch 5/100\n",
      "469/469 [==============================] - 48s 103ms/step - loss: 0.2549 - accuracy: 0.8961 - val_loss: 0.2987 - val_accuracy: 0.8718\n",
      "Epoch 6/100\n",
      "469/469 [==============================] - 48s 103ms/step - loss: 0.2352 - accuracy: 0.9043 - val_loss: 0.3184 - val_accuracy: 0.8699\n",
      "Epoch 7/100\n",
      "469/469 [==============================] - 49s 104ms/step - loss: 0.2203 - accuracy: 0.9107 - val_loss: 0.3016 - val_accuracy: 0.8739\n",
      "Epoch 8/100\n",
      "469/469 [==============================] - 48s 103ms/step - loss: 0.2088 - accuracy: 0.9148 - val_loss: 0.3205 - val_accuracy: 0.8702\n",
      "Epoch 9/100\n",
      "469/469 [==============================] - 49s 104ms/step - loss: 0.1914 - accuracy: 0.9251 - val_loss: 0.3289 - val_accuracy: 0.8616\n",
      "Epoch 10/100\n",
      "469/469 [==============================] - 49s 104ms/step - loss: 0.1849 - accuracy: 0.9279 - val_loss: 0.3443 - val_accuracy: 0.8643\n"
     ]
    }
   ],
   "source": [
    "history=model.fit(X_train, y_train, batch_size=40, epochs=100, validation_split=0.25, callbacks=[early_stopping])"
   ]
  },
  {
   "cell_type": "code",
   "execution_count": 9,
   "id": "06082394",
   "metadata": {},
   "outputs": [
    {
     "name": "stdout",
     "output_type": "stream",
     "text": [
      "782/782 [==============================] - 16s 21ms/step - loss: 0.3396 - accuracy: 0.8675\n",
      "TEST ACCURACY: 0.8675\n"
     ]
    }
   ],
   "source": [
    "# LSTM 과 CNN을 섞어서쓰니 성능이 좋게나옴\n",
    "print('TEST ACCURACY: %.4f' %(model.evaluate(X_test, y_test)[1]))"
   ]
  },
  {
   "cell_type": "code",
   "execution_count": 10,
   "id": "9b1bb6c0",
   "metadata": {},
   "outputs": [
    {
     "data": {
      "image/png": "[encoded data removed]",
      "text/plain": [
       "<Figure size 640x480 with 1 Axes>"
      ]
     },
     "metadata": {},
     "output_type": "display_data"
    }
   ],
   "source": [
    "# 학습셋과 테스트셋의 오차를 저장합니다. \n",
    "y_vloss = history.history['val_loss']\n",
    "y_loss = history.history['loss']\n",
    "\n",
    "# 그래프로 표현해 보겠습니다.\n",
    "x_len = np.arange(len(y_loss))\n",
    "plt.plot(x_len, y_vloss, marker='.', c=\"red\", label='Testset_loss')\n",
    "plt.plot(x_len, y_loss, marker='.', c=\"blue\", label='Trainset_loss')\n",
    "\n",
    "# 그래프에 그리드를 주고 레이블을 표시하겠습니다. \n",
    "plt.legend(loc='upper right')\n",
    "plt.grid()\n",
    "plt.xlabel('epoch')\n",
    "plt.ylabel('loss')\n",
    "plt.show()"
   ]
  }
 ],
 "metadata": {
  "kernelspec": {
   "display_name": "Python 3 (ipykernel)",
   "language": "python",
   "name": "python3"
  },
  "language_info": {
   "codemirror_mode": {
    "name": "ipython",
    "version": 3
   },
   "file_extension": ".py",
   "mimetype": "text/x-python",
   "name": "python",
   "nbconvert_exporter": "python",
   "pygments_lexer": "ipython3",
   "version": "3.8.13"
  }
 },
 "nbformat": 4,
 "nbformat_minor": 5
}
