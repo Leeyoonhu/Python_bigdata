{
 "cells": [
  {
   "cell_type": "code",
   "execution_count": 1,
   "id": "0df53917",
   "metadata": {},
   "outputs": [],
   "source": [
    "# 이제는 단순히 긍정, 부정이아니고 AI가 문장을 해석해야한다"
   ]
  },
  {
   "cell_type": "markdown",
   "id": "09e68687",
   "metadata": {},
   "source": [
    "https://dgkim5360.tistory.com/entry/understanding-long-short-term-memory-lstm-kr 참조"
   ]
  },
  {
   "cell_type": "code",
   "execution_count": 2,
   "id": "08bb8879",
   "metadata": {},
   "outputs": [],
   "source": [
    "# p262 LSTM을 이용한 로이터 뉴스 카테고리 분류하기\n",
    "from tensorflow.keras import models, layers\n",
    "from tensorflow.keras.utils import to_categorical\n",
    "from tensorflow.keras.preprocessing import sequence\n",
    "from tensorflow.keras.datasets import reuters\n",
    "from tensorflow.keras.callbacks import EarlyStopping\n",
    "import numpy as np\n",
    "import matplotlib.pyplot as plt\n",
    "import os\n",
    "os.environ[\"KMP_DUPLICATE_LIB_OK\"]=\"TRUE\""
   ]
  },
  {
   "cell_type": "code",
   "execution_count": 3,
   "id": "71381483",
   "metadata": {},
   "outputs": [
    {
     "name": "stdout",
     "output_type": "stream",
     "text": [
      "Downloading data from https://storage.googleapis.com/tensorflow/tf-keras-datasets/reuters.npz\n",
      "2110848/2110848 [==============================] - 0s 0us/step\n"
     ]
    }
   ],
   "source": [
    "# 로이터 데이터 가져오기\n",
    "# 전체 데이터 중 20%를 테스트 데이터로 사용\n",
    "(X_train, y_train), (X_test, y_test) = reuters.load_data(num_words=1000, test_split=0.2)"
   ]
  },
  {
   "cell_type": "code",
   "execution_count": 6,
   "id": "dd95bfc8",
   "metadata": {},
   "outputs": [
    {
     "name": "stdout",
     "output_type": "stream",
     "text": [
      "종류: 46\n",
      "Train data 8982\n",
      "Test data 2246\n"
     ]
    }
   ],
   "source": [
    "# 전체 카테고리 갯수\n",
    "category=np.max(y_train) + 1\n",
    "print('종류:', category)\n",
    "print('Train data', len(X_train))\n",
    "print('Test data', len(X_test))"
   ]
  },
  {
   "cell_type": "code",
   "execution_count": 9,
   "id": "53c8ee83",
   "metadata": {},
   "outputs": [
    {
     "name": "stdout",
     "output_type": "stream",
     "text": [
      "87\n"
     ]
    }
   ],
   "source": [
    "print(len(X_train[0]))"
   ]
  },
  {
   "cell_type": "code",
   "execution_count": 10,
   "id": "e1e69ebc",
   "metadata": {},
   "outputs": [],
   "source": [
    "# 패딩// 단어마다 기사의 길이가 다르므로\n",
    "X_train = sequence.pad_sequences(X_train, maxlen=100)\n",
    "X_test = sequence.pad_sequences(X_test, maxlen=100)"
   ]
  },
  {
   "cell_type": "code",
   "execution_count": 11,
   "id": "ffb85f51",
   "metadata": {},
   "outputs": [],
   "source": [
    "# 타겟값을 46차원의 원핫 인코딩 >> to_categorical\n",
    "y_train = to_categorical(y_train)\n",
    "y_test = to_categorical(y_test)"
   ]
  },
  {
   "cell_type": "code",
   "execution_count": 12,
   "id": "0f4fb316",
   "metadata": {},
   "outputs": [
    {
     "name": "stdout",
     "output_type": "stream",
     "text": [
      "Model: \"sequential\"\n",
      "_________________________________________________________________\n",
      " Layer (type)                Output Shape              Param #   \n",
      "=================================================================\n",
      " embedding (Embedding)       (None, None, 100)         100000    \n",
      "                                                                 \n",
      " lstm (LSTM)                 (None, 100)               80400     \n",
      "                                                                 \n",
      " dense (Dense)               (None, 46)                4646      \n",
      "                                                                 \n",
      "=================================================================\n",
      "Total params: 185,046\n",
      "Trainable params: 185,046\n",
      "Non-trainable params: 0\n",
      "_________________________________________________________________\n"
     ]
    }
   ],
   "source": [
    "model=models.Sequential()\n",
    "# 임베딩에서 단어의 종류갯수 입력(1000차원을 100차원으로 변경하기) // 출력이 100차원이됨\n",
    "model.add(layers.Embedding(1000, 100))\n",
    "# 출력이 100인 LSTM \n",
    "model.add(layers.LSTM(100, activation='tanh'))\n",
    "# 다중분류이기에 softmax\n",
    "\n",
    "model.add(layers.Dense(46, activation='softmax'))\n",
    "model.summary()\n",
    "\n",
    "# 입력값 1000 * 출력값 100 = 100000 \n",
    "# (output + input) 이 입력차원 (h, Xt) \n",
    "# 컬럼수는 output, bias 는 output\n",
    "# ((100 + 100)[input] x 100[output] + 100(bias)) x 4(gate)\n",
    "# ((출력+입력) x 출력 + 출력) x 게이트 수\n",
    "# 입력값 100 * 출력값 46 + 46 = 4646"
   ]
  },
  {
   "cell_type": "code",
   "execution_count": 13,
   "id": "38e86b97",
   "metadata": {},
   "outputs": [],
   "source": [
    "model.compile(loss='categorical_crossentropy', optimizer='adam', metrics=['accuracy'])\n",
    "early_stopping=EarlyStopping(monitor='val_loss', patience=5)"
   ]
  },
  {
   "cell_type": "code",
   "execution_count": 14,
   "id": "4daddf8e",
   "metadata": {},
   "outputs": [
    {
     "name": "stdout",
     "output_type": "stream",
     "text": [
      "Epoch 1/200\n",
      "450/450 [==============================] - 22s 44ms/step - loss: 2.1627 - accuracy: 0.4530 - val_loss: 1.8130 - val_accuracy: 0.5294\n",
      "Epoch 2/200\n",
      "450/450 [==============================] - 20s 44ms/step - loss: 1.7270 - accuracy: 0.5518 - val_loss: 1.6689 - val_accuracy: 0.5695\n",
      "Epoch 3/200\n",
      "450/450 [==============================] - 20s 45ms/step - loss: 1.5947 - accuracy: 0.5858 - val_loss: 1.5693 - val_accuracy: 0.5904\n",
      "Epoch 4/200\n",
      "450/450 [==============================] - 20s 45ms/step - loss: 1.4433 - accuracy: 0.6257 - val_loss: 1.4317 - val_accuracy: 0.6407\n",
      "Epoch 5/200\n",
      "450/450 [==============================] - 21s 46ms/step - loss: 1.2882 - accuracy: 0.6661 - val_loss: 1.3586 - val_accuracy: 0.6505\n",
      "Epoch 6/200\n",
      "450/450 [==============================] - 21s 46ms/step - loss: 1.1598 - accuracy: 0.7003 - val_loss: 1.2529 - val_accuracy: 0.6808\n",
      "Epoch 7/200\n",
      "450/450 [==============================] - 21s 46ms/step - loss: 1.0376 - accuracy: 0.7344 - val_loss: 1.1814 - val_accuracy: 0.6990\n",
      "Epoch 8/200\n",
      "450/450 [==============================] - 21s 46ms/step - loss: 0.9515 - accuracy: 0.7586 - val_loss: 1.1214 - val_accuracy: 0.7119\n",
      "Epoch 9/200\n",
      "450/450 [==============================] - 21s 46ms/step - loss: 0.8723 - accuracy: 0.7782 - val_loss: 1.1346 - val_accuracy: 0.7164\n",
      "Epoch 10/200\n",
      "450/450 [==============================] - 21s 47ms/step - loss: 0.8080 - accuracy: 0.7940 - val_loss: 1.1043 - val_accuracy: 0.7199\n",
      "Epoch 11/200\n",
      "450/450 [==============================] - 21s 46ms/step - loss: 0.7459 - accuracy: 0.8083 - val_loss: 1.1209 - val_accuracy: 0.7150\n",
      "Epoch 12/200\n",
      "450/450 [==============================] - 21s 46ms/step - loss: 0.6882 - accuracy: 0.8239 - val_loss: 1.1239 - val_accuracy: 0.7253\n",
      "Epoch 13/200\n",
      "450/450 [==============================] - 22s 48ms/step - loss: 0.6293 - accuracy: 0.8365 - val_loss: 1.2060 - val_accuracy: 0.7124\n",
      "Epoch 14/200\n",
      "450/450 [==============================] - 21s 47ms/step - loss: 0.5832 - accuracy: 0.8523 - val_loss: 1.2100 - val_accuracy: 0.7115\n",
      "Epoch 15/200\n",
      "450/450 [==============================] - 21s 47ms/step - loss: 0.5336 - accuracy: 0.8621 - val_loss: 1.2174 - val_accuracy: 0.7168\n"
     ]
    }
   ],
   "source": [
    "# 학습 데이터를 쪼개서 validation하지말고, X_test, y_test에 별도로 공금\n",
    "history = model.fit(X_train, y_train, batch_size=20, epochs=200,\n",
    "                   validation_data=(X_test, y_test), callbacks=[early_stopping])"
   ]
  },
  {
   "cell_type": "code",
   "execution_count": 16,
   "id": "838581c4",
   "metadata": {},
   "outputs": [
    {
     "name": "stdout",
     "output_type": "stream",
     "text": [
      "71/71 [==============================] - 1s 15ms/step - loss: 1.2174 - accuracy: 0.7168\n",
      "TEST ACCURACY: 0.7168\n"
     ]
    }
   ],
   "source": [
    "print('TEST ACCURACY: %.4f' %(model.evaluate(X_test, y_test)[1]))"
   ]
  },
  {
   "cell_type": "code",
   "execution_count": 17,
   "id": "2f626432",
   "metadata": {},
   "outputs": [
    {
     "data": {
      "image/png": "[encoded data removed]",
      "text/plain": [
       "<Figure size 640x480 with 1 Axes>"
      ]
     },
     "metadata": {},
     "output_type": "display_data"
    }
   ],
   "source": [
    "# 학습셋과 테스트셋의 오차를 저장합니다. \n",
    "y_vloss = history.history['val_loss']\n",
    "y_loss = history.history['loss']\n",
    "\n",
    "# 그래프로 표현해 보겠습니다.\n",
    "x_len = np.arange(len(y_loss))\n",
    "plt.plot(x_len, y_vloss, marker='.', c=\"red\", label='Testset_loss')\n",
    "plt.plot(x_len, y_loss, marker='.', c=\"blue\", label='Trainset_loss')\n",
    "\n",
    "# 그래프에 그리드를 주고 레이블을 표시하겠습니다. \n",
    "plt.legend(loc='upper right')\n",
    "plt.grid()\n",
    "plt.xlabel('epoch')\n",
    "plt.ylabel('loss')\n",
    "plt.show()"
   ]
  }
 ],
 "metadata": {
  "kernelspec": {
   "display_name": "Python 3 (ipykernel)",
   "language": "python",
   "name": "python3"
  },
  "language_info": {
   "codemirror_mode": {
    "name": "ipython",
    "version": 3
   },
   "file_extension": ".py",
   "mimetype": "text/x-python",
   "name": "python",
   "nbconvert_exporter": "python",
   "pygments_lexer": "ipython3",
   "version": "3.8.13"
  }
 },
 "nbformat": 4,
 "nbformat_minor": 5
}
