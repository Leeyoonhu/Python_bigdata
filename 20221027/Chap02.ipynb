{
 "cells": [
  {
   "cell_type": "code",
   "execution_count": 1,
   "id": "fec497a3",
   "metadata": {},
   "outputs": [],
   "source": [
    "# keras 방법 2개 >> Sequential, subclass\n",
    "from tensorflow.keras.models import Sequential\n",
    "from tensorflow.keras import layers\n",
    "import numpy as np"
   ]
  },
  {
   "cell_type": "code",
   "execution_count": 2,
   "id": "360b64bf",
   "metadata": {},
   "outputs": [],
   "source": [
    "data_set = np.loadtxt('deep-learning/data/ThoraricSurgery3.csv', delimiter=',')"
   ]
  },
  {
   "cell_type": "code",
   "execution_count": 3,
   "id": "3a8f50ff",
   "metadata": {},
   "outputs": [
    {
     "name": "stdout",
     "output_type": "stream",
     "text": [
      "<class 'numpy.ndarray'>\n"
     ]
    }
   ],
   "source": [
    "print(type(data_set))"
   ]
  },
  {
   "cell_type": "code",
   "execution_count": 4,
   "id": "8aae44aa",
   "metadata": {},
   "outputs": [
    {
     "name": "stdout",
     "output_type": "stream",
     "text": [
      "(470, 17)\n"
     ]
    }
   ],
   "source": [
    "print(data_set.shape)"
   ]
  },
  {
   "cell_type": "code",
   "execution_count": 5,
   "id": "4b68b956",
   "metadata": {},
   "outputs": [
    {
     "name": "stdout",
     "output_type": "stream",
     "text": [
      "float64\n"
     ]
    }
   ],
   "source": [
    "print(data_set.dtype)"
   ]
  },
  {
   "cell_type": "code",
   "execution_count": 6,
   "id": "573be678",
   "metadata": {},
   "outputs": [],
   "source": [
    "# X 는 matrix니까 대문자, y는 target이니까 소문자\n",
    "X = data_set[:, :16]\n",
    "y = data_set[:, 16]"
   ]
  },
  {
   "cell_type": "code",
   "execution_count": 7,
   "id": "545ab704",
   "metadata": {},
   "outputs": [
    {
     "name": "stdout",
     "output_type": "stream",
     "text": [
      "[ 2.    3.4   1.88  0.    0.    0.    0.    0.    0.    1.    0.    0.\n",
      "  0.    1.    0.   51.  ]\n"
     ]
    }
   ],
   "source": [
    "print(X[1])"
   ]
  },
  {
   "cell_type": "code",
   "execution_count": 8,
   "id": "37e3ee92",
   "metadata": {},
   "outputs": [
    {
     "name": "stdout",
     "output_type": "stream",
     "text": [
      "0.0\n"
     ]
    }
   ],
   "source": [
    "print(y[1])"
   ]
  },
  {
   "cell_type": "code",
   "execution_count": 9,
   "id": "b91be494",
   "metadata": {},
   "outputs": [],
   "source": [
    "# Sequential 객체 생성\n",
    "model = Sequential()\n",
    "\n",
    "# 입력을 16개 받았으니, 중간에 히든레이어(은닉층)는 30개 만들예정 ==> 이진 분류 모델임(죽느냐, 사느냐)\n",
    "# layers.Dense(은닉층, 입력층, 활성화 함수) // Dense : 밀집하다 -> fully connected\n",
    "# weight 와 bias는 keras가 알아서 생성해줌\n",
    "model.add(layers.Dense(30, input_dim=16, activation=\"relu\")) # 활성화 함수 relu 사용 \n",
    "\n",
    "# 0, 1로 생존 구함, 입력층은 위에 추가한 모델에서 계산한 출력층 갯수\n",
    "model.add(layers.Dense(1, activation='sigmoid'))"
   ]
  },
  {
   "cell_type": "code",
   "execution_count": 10,
   "id": "5b7fa1e4",
   "metadata": {},
   "outputs": [
    {
     "name": "stdout",
     "output_type": "stream",
     "text": [
      "Model: \"sequential\"\n",
      "_________________________________________________________________\n",
      "Layer (type)                 Output Shape              Param #   \n",
      "=================================================================\n",
      "dense (Dense)                (None, 30)                510       \n",
      "_________________________________________________________________\n",
      "dense_1 (Dense)              (None, 1)                 31        \n",
      "=================================================================\n",
      "Total params: 541\n",
      "Trainable params: 541\n",
      "Non-trainable params: 0\n",
      "_________________________________________________________________\n"
     ]
    }
   ],
   "source": [
    "# (16 x w) * (w * 30) + 30[bias] ==>  출력층\n",
    "# (30 x w ) * (w * 1 ) + 1[bias] ==>  541\n",
    "model.summary()"
   ]
  },
  {
   "cell_type": "code",
   "execution_count": 11,
   "id": "dcdf1d18",
   "metadata": {},
   "outputs": [],
   "source": [
    "# keras 는 이진분류일때 손실함수를 binary_corssentropy, optimizer 는 정확도가 높은 adam, metrics 는 정확도 측정하라\n",
    "model.compile(loss='binary_crossentropy', optimizer='adam', metrics=['accuracy'])"
   ]
  },
  {
   "cell_type": "code",
   "execution_count": 12,
   "id": "f7e0d4ab",
   "metadata": {},
   "outputs": [
    {
     "name": "stdout",
     "output_type": "stream",
     "text": [
      "Epoch 1/5\n",
      "30/30 [==============================] - 1s 4ms/step - loss: 4.1491 - accuracy: 0.8532\n",
      "Epoch 2/5\n",
      "30/30 [==============================] - 0s 4ms/step - loss: 2.4300 - accuracy: 0.8417\n",
      "Epoch 3/5\n",
      "30/30 [==============================] - 0s 4ms/step - loss: 0.5289 - accuracy: 0.8548\n",
      "Epoch 4/5\n",
      "30/30 [==============================] - 0s 4ms/step - loss: 0.4200 - accuracy: 0.8477\n",
      "Epoch 5/5\n",
      "30/30 [==============================] - 0s 4ms/step - loss: 0.4278 - accuracy: 0.8510\n"
     ]
    }
   ],
   "source": [
    "# 학습한 결과를 담는 history 객체\n",
    "# 한 epoch당 16으로 나누면 30개로 생길것임\n",
    "history = model.fit(X, y, epochs=5, batch_size=16)"
   ]
  },
  {
   "cell_type": "markdown",
   "id": "944e1786",
   "metadata": {},
   "source": [
    "### Subclassing"
   ]
  },
  {
   "cell_type": "code",
   "execution_count": 13,
   "id": "e7aaf6f6",
   "metadata": {},
   "outputs": [],
   "source": [
    "model_name = 'thoraric_surgery'\n",
    "batch_size = 16\n",
    "params = {\n",
    "    'model_name' : model_name,\n",
    "    'input_dimension' : 16,\n",
    "    'hidden_dimension' : 30,\n",
    "    'output_dimension' : 1\n",
    "}"
   ]
  },
  {
   "cell_type": "code",
   "execution_count": 14,
   "id": "f9b24303",
   "metadata": {},
   "outputs": [],
   "source": [
    "import tensorflow as tf"
   ]
  },
  {
   "cell_type": "code",
   "execution_count": 15,
   "id": "531174b5",
   "metadata": {},
   "outputs": [],
   "source": [
    "# 모든클래스는 tensorflow의 keras에있는 Model을 상속받게 선언\n",
    "# SubClassing 은 형태가 정해져있음\n",
    "class ThoraricSurgery(tf.keras.Model):\n",
    "    def __init__(self, **kargs):\n",
    "        super(ThoraricSurgery, self).__init__(name=kargs['model_name'])\n",
    "        # 로컬 변수로 layer 정의\n",
    "        self.fc1 = layers.Dense(\n",
    "            kargs['hidden_dimension'],\n",
    "        input_dim=kargs['input_dimension'],\n",
    "        activation='relu')\n",
    "        self.fc2 = layers.Dense(kargs['output_dimension'], activation='sigmoid')\n",
    "        \n",
    "    # call 함수 overriding\n",
    "    def call(self, x):\n",
    "        x = self.fc1(x)\n",
    "        x = self.fc2(x)\n",
    "        return x"
   ]
  },
  {
   "cell_type": "code",
   "execution_count": 16,
   "id": "6628411b",
   "metadata": {},
   "outputs": [],
   "source": [
    "# 모델 만듬\n",
    "model = ThoraricSurgery(**params)"
   ]
  },
  {
   "cell_type": "code",
   "execution_count": 18,
   "id": "f5aa38c8",
   "metadata": {},
   "outputs": [
    {
     "name": "stdout",
     "output_type": "stream",
     "text": [
      "Epoch 1/5\n",
      "30/30 [==============================] - 0s 4ms/step - loss: 0.6054 - accuracy: 0.8400\n",
      "Epoch 2/5\n",
      "30/30 [==============================] - 0s 4ms/step - loss: 0.4296 - accuracy: 0.8508\n",
      "Epoch 3/5\n",
      "30/30 [==============================] - 0s 4ms/step - loss: 0.3856 - accuracy: 0.8683\n",
      "Epoch 4/5\n",
      "30/30 [==============================] - 0s 4ms/step - loss: 0.3792 - accuracy: 0.8775\n",
      "Epoch 5/5\n",
      "30/30 [==============================] - 0s 4ms/step - loss: 0.4358 - accuracy: 0.8447\n"
     ]
    }
   ],
   "source": [
    "model.compile(loss='binary_crossentropy', optimizer='adam', metrics=['accuracy'])\n",
    "history = model.fit(X, y, epochs=5, batch_size = batch_size)"
   ]
  }
 ],
 "metadata": {
  "kernelspec": {
   "display_name": "Python 3 (ipykernel)",
   "language": "python",
   "name": "python3"
  },
  "language_info": {
   "codemirror_mode": {
    "name": "ipython",
    "version": 3
   },
   "file_extension": ".py",
   "mimetype": "text/x-python",
   "name": "python",
   "nbconvert_exporter": "python",
   "pygments_lexer": "ipython3",
   "version": "3.8.13"
  }
 },
 "nbformat": 4,
 "nbformat_minor": 5
}
