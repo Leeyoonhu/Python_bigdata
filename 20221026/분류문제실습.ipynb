{
 "cells": [
  {
   "cell_type": "code",
   "execution_count": 1,
   "id": "25ff9a43",
   "metadata": {},
   "outputs": [],
   "source": [
    "import numpy as np\n",
    "import matplotlib.pyplot as plt"
   ]
  },
  {
   "cell_type": "code",
   "execution_count": 2,
   "id": "2f43b718",
   "metadata": {},
   "outputs": [],
   "source": [
    "X = np.arange(-1.0, 1.1, 0.1)\n",
    "Y = np.arange(-1.0, 1.1, 0.1)"
   ]
  },
  {
   "cell_type": "code",
   "execution_count": 3,
   "id": "84915cc4",
   "metadata": {},
   "outputs": [],
   "source": [
    "input_data = []\n",
    "correct_data = []\n",
    "for x in X:\n",
    "    for y in Y:\n",
    "        input_data.append([x, y])\n",
    "        if y < np.sin(np.pi * x):\n",
    "            correct_data.append([0, 1])\n",
    "        else:\n",
    "            correct_data.append([1, 0])"
   ]
  },
  {
   "cell_type": "code",
   "execution_count": 4,
   "id": "f2a754f9",
   "metadata": {},
   "outputs": [],
   "source": [
    "n_data = len(correct_data)\n",
    "\n",
    "# numpy array 로 변환\n",
    "input_data = np.array(input_data)\n",
    "correct_data = np.array(correct_data)"
   ]
  },
  {
   "cell_type": "code",
   "execution_count": 5,
   "id": "8fb149ba",
   "metadata": {},
   "outputs": [],
   "source": [
    "n_in = 2\n",
    "n_mid = 6\n",
    "n_out = 2"
   ]
  },
  {
   "cell_type": "code",
   "execution_count": 6,
   "id": "82fe4794",
   "metadata": {},
   "outputs": [],
   "source": [
    "wb_width = 0.01\n",
    "eta = 0.1\n",
    "epoch = 101\n",
    "interval = 10"
   ]
  },
  {
   "cell_type": "code",
   "execution_count": 7,
   "id": "9edd5d9a",
   "metadata": {},
   "outputs": [],
   "source": [
    "# 은닉층 클래스 설정\n",
    "class MiddleLayer:\n",
    "    def __init__(self, n_upper, n):\n",
    "        self.w = wb_width * np.random.randn(n_upper, n)\n",
    "        self.b = wb_width * np.random.randn(n)\n",
    "        \n",
    "    # 순전파 forward\n",
    "    def forward(self, x):\n",
    "        self.x = x\n",
    "        u = np.dot(x, self.w) + self.b \n",
    "        self.y = 1 / (1 + np.exp(-u)) # sigmoid 함수\n",
    "        \n",
    "    # 역전파 backward\n",
    "    def backward(self, grad_y):\n",
    "        delta = grad_y * (1 - self.y) * self.y # sigmoid 함수 미분\n",
    "        self.grad_w = np.dot(self.x.T, delta)\n",
    "        self.grad_b = np.sum(delta, axis=0)\n",
    "        self.grad_x = np.dot(delta, self.w.T)\n",
    "        \n",
    "    def update(self, eta):\n",
    "        self.w -= eta * self.grad_w\n",
    "        self.b -= eta * self.grad_b"
   ]
  },
  {
   "cell_type": "code",
   "execution_count": 9,
   "id": "ec20d357",
   "metadata": {},
   "outputs": [],
   "source": [
    "# 출력층 클래스\n",
    "class OutputLayer:\n",
    "    def __init__(self, n_upper, n):\n",
    "        self.w = wb_width * np.random.randn(n_upper, n)\n",
    "        self.b = wb_width * np.random.randn(n)\n",
    "        \n",
    "    # 순전파 forward\n",
    "    def forward(self, x):\n",
    "        self.x = x\n",
    "        u = np.dot(x, self.w) + self.b \n",
    "        self.y = np.exp(u) / np.sum(np.exp(u), axis=1, keepdims=True) # 소프트맥스 함수\n",
    "        \n",
    "    # 역전파 backward\n",
    "    def backward(self, t):\n",
    "        delta = self.y - t\n",
    "        self.grad_w = np.dot(self.x.T, delta)\n",
    "        self.grad_b = np.sum(delta, axis=0)\n",
    "        self.grad_x = np.dot(delta, self.w.T)\n",
    "        \n",
    "    def update(self, eta):\n",
    "        self.w -= eta * self.grad_w\n",
    "        self.b -= eta * self.grad_b"
   ]
  },
  {
   "cell_type": "code",
   "execution_count": 10,
   "id": "1ee6b532",
   "metadata": {},
   "outputs": [],
   "source": [
    "middle_layer = MiddleLayer(n_in, n_mid)\n",
    "output_layer = OutputLayer(n_mid, n_out)"
   ]
  },
  {
   "cell_type": "code",
   "execution_count": 1,
   "id": "40cc242a",
   "metadata": {},
   "outputs": [
    {
     "ename": "NameError",
     "evalue": "name 'np' is not defined",
     "output_type": "error",
     "traceback": [
      "\u001b[1;31m---------------------------------------------------------------------------\u001b[0m",
      "\u001b[1;31mNameError\u001b[0m                                 Traceback (most recent call last)",
      "Input \u001b[1;32mIn [1]\u001b[0m, in \u001b[0;36m<cell line: 2>\u001b[1;34m()\u001b[0m\n\u001b[0;32m      1\u001b[0m \u001b[38;5;66;03m#학습\u001b[39;00m\n\u001b[1;32m----> 2\u001b[0m sin_data \u001b[38;5;241m=\u001b[39m \u001b[43mnp\u001b[49m\u001b[38;5;241m.\u001b[39msin(np\u001b[38;5;241m.\u001b[39mpi \u001b[38;5;241m*\u001b[39m X)\n\u001b[0;32m      3\u001b[0m \u001b[38;5;28;01mfor\u001b[39;00m i \u001b[38;5;129;01min\u001b[39;00m \u001b[38;5;28mrange\u001b[39m(epoch):\n\u001b[0;32m      4\u001b[0m     index_random \u001b[38;5;241m=\u001b[39m np\u001b[38;5;241m.\u001b[39marange(n_data)\n",
      "\u001b[1;31mNameError\u001b[0m: name 'np' is not defined"
     ]
    }
   ],
   "source": [
    "#학습\n",
    "sin_data = np.sin(np.pi * X)\n",
    "for i in range(epoch):\n",
    "    index_random = np.arange(n_data)\n",
    "    np.random.shuffle(index_random)\n",
    "    \n",
    "    total_error = 0\n",
    "    x_1 = []\n",
    "    y_1 = []\n",
    "    x_2 = []\n",
    "    y_2 = []\n",
    "\n",
    "    for idx in index_random:\n",
    "        x = input_data[idx] # 입력\n",
    "        t = correct_data[idx] # 정답\n",
    "        \n",
    "# 순전파\n",
    "        middle_layer.forward(x.reshape(1, 2)) # 입력을 행렬로 변환\n",
    "        output_layer.forward(middle_layer.y) \n",
    "        \n",
    "# 역전파\n",
    "        output_layer.backward(t.reshape(1, 2)) # 정답을 행렬로 변환\n",
    "        middle_layer.backward(output_layer.grad_x)\n",
    "\n",
    "# 가중치와 편향 수정\n",
    "        middle_layer.update(eta)\n",
    "        output_layer.update(eta)\n",
    "        \n",
    "        if i % interval == 0:\n",
    "            y = output_layer.y.reshape(-1) # 행렬을 벡터로 되돌림\n",
    "# 오차계산\n",
    "            total_error += - np.sum(t * np.log(y + 1e-7))\n",
    "# 출력 기록\n",
    "            if y[0] > y[1]:\n",
    "                x_1.append(x[0])\n",
    "                y_1.append(x[1])\n",
    "            else:\n",
    "                x_2.append(x[0])\n",
    "                y_2.append(x[1])\n",
    "        \n",
    "    if i % interval == 0:   \n",
    "    # 출력 그래프 표시\n",
    "            plt.plot(X, sin_data, linestyle=\"dashed\")\n",
    "            plt.scatter(x_1, y_1, marker=\"+\")\n",
    "            plt.scatter(x_2, y_2, marker=\"x\")\n",
    "            plt.show()\n",
    "\n",
    "    # 에포크 수와 오차 표시\n",
    "            print(\"Epoch:\" + str(i) + \"/\" + str(epoch), \"Error:\" + str(total_error/n_data))"
   ]
  }
 ],
 "metadata": {
  "kernelspec": {
   "display_name": "Python 3 (ipykernel)",
   "language": "python",
   "name": "python3"
  },
  "language_info": {
   "codemirror_mode": {
    "name": "ipython",
    "version": 3
   },
   "file_extension": ".py",
   "mimetype": "text/x-python",
   "name": "python",
   "nbconvert_exporter": "python",
   "pygments_lexer": "ipython3",
   "version": "3.8.13"
  }
 },
 "nbformat": 4,
 "nbformat_minor": 5
}
