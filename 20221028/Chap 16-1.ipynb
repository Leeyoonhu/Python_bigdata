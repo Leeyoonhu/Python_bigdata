{
 "cells": [
  {
   "cell_type": "code",
   "execution_count": 1,
   "id": "4ca3dc5b",
   "metadata": {},
   "outputs": [],
   "source": [
    "from tensorflow.keras import models, layers\n",
    "from tensorflow.keras.datasets import mnist\n",
    "from tensorflow.keras.utils import to_categorical\n",
    "from tensorflow.keras.callbacks import EarlyStopping, ModelCheckpoint\n",
    "import matplotlib.pyplot as plt\n",
    "import numpy as np"
   ]
  },
  {
   "cell_type": "code",
   "execution_count": 2,
   "id": "69fd31ea",
   "metadata": {},
   "outputs": [],
   "source": [
    "# 데이터 불러오는 부분\n",
    "(X_train, y_train), (X_test, y_test) = mnist.load_data()"
   ]
  },
  {
   "cell_type": "code",
   "execution_count": 3,
   "id": "7ee426ff",
   "metadata": {},
   "outputs": [],
   "source": [
    "# 스케일링 하는 부분 (이미지 원본으로 불러옴)\n",
    "# resshape (imgaes, rows, columns, channels)\n",
    "# 흑백은 채널1, 컬러는 3\n",
    "X_train = X_train.reshape(X_train.shape[0], 28, 28, 1).astype(float) / 255\n",
    "X_test = X_test.reshape(X_test.shape[0], 28, 28, 1).astype(float) / 255\n",
    "y_train = to_categorical(y_train) # 넘파이배열을 원핫인코딩 : to_categorical\n",
    "y_test = to_categorical(y_test)"
   ]
  },
  {
   "cell_type": "code",
   "execution_count": 4,
   "id": "583a98bc",
   "metadata": {
    "scrolled": true
   },
   "outputs": [
    {
     "name": "stdout",
     "output_type": "stream",
     "text": [
      "Model: \"sequential\"\n",
      "_________________________________________________________________\n",
      " Layer (type)                Output Shape              Param #   \n",
      "=================================================================\n",
      " conv2d (Conv2D)             (None, 26, 26, 32)        320       \n",
      "                                                                 \n",
      " conv2d_1 (Conv2D)           (None, 24, 24, 64)        18496     \n",
      "                                                                 \n",
      " max_pooling2d (MaxPooling2D  (None, 12, 12, 64)       0         \n",
      " )                                                               \n",
      "                                                                 \n",
      " dropout (Dropout)           (None, 12, 12, 64)        0         \n",
      "                                                                 \n",
      " flatten (Flatten)           (None, 9216)              0         \n",
      "                                                                 \n",
      " dense (Dense)               (None, 128)               1179776   \n",
      "                                                                 \n",
      " dropout_1 (Dropout)         (None, 128)               0         \n",
      "                                                                 \n",
      " dense_1 (Dense)             (None, 10)                1290      \n",
      "                                                                 \n",
      "=================================================================\n",
      "Total params: 1,199,882\n",
      "Trainable params: 1,199,882\n",
      "Non-trainable params: 0\n",
      "_________________________________________________________________\n"
     ]
    }
   ],
   "source": [
    "model = models.Sequential()\n",
    "# 이미지 1장이 들어오면 3x3 커널을 만드는데, 1장의 이미지를 32장(커널을 32개 두고서)으로 만들겠다\n",
    "model.add(layers.Conv2D(32, kernel_size=(3,3), input_shape=(28,28,1), activation='relu'))\n",
    "# 3x3 커널의 각 위치의 값이 weight 파라미터\n",
    "# 커널별로 bias가 생성됨\n",
    "\n",
    "# 왜 커널을 32개나 만들어서 32장을 뽑냐?\n",
    "# 각각의 커널이 여러가지 특징을 다 잡아낼수 있도록 충분하게 만들어준것임\n",
    "\n",
    "# 커널 1장당 64장을 쪼개개했는데, 이전에서 뽑은 32장이 와서 (32 x w) * (w x 64) + 64 \n",
    "model.add(layers.Conv2D(64, kernel_size=(3,3), activation='relu'))\n",
    "model.add(layers.MaxPooling2D(pool_size=(2,2)))\n",
    "# 과적합(overfitting) 을 방지하는 드랍아웃\n",
    "model.add(layers.Dropout(0.25))\n",
    "# flatten층은 위에 몇차원이 들어오던간에 1차원으로 쫙 펴줌 (Dense 층으로 집어넣으려고)\n",
    "model.add(layers.Flatten())\n",
    "model.add(layers.Dense(128, activation='relu'))\n",
    "model.add(layers.Dropout(0.5))\n",
    "model.add(layers.Dense(10, activation='softmax'))\n",
    "model.summary()\n",
    "\n",
    "\n",
    "# 1. (1) * (3 x 3) * (32) + 32=> w = 288 / bias = 32 / total = 320 => 이미지크기 28* 28 => (28-2) * (28-2)\n",
    "# 2. (32) *  (3 x 3)* (64) + 64 =>  w =18432 / bias = 32 / total = 18496 => 이미지크기 (28-2) * (28-2) => (28-4) * (28-4)\n",
    "# 3. 이미지 크기 24 * 24였는데 (2,2) maxpooling 하면서 1/4토막 > 가로세로 절반됨\n",
    "# 4. Flatten ==> 1차원으로 눌러서 12 * 12 크기의 64개 ==> 입력 9216\n",
    "# 5. (9216) * (128) + 128 =>  w = 1179648 / bias = 128 / total = 1179776\n",
    "# 6. (128) * (10) + 10 = w = 1280 / bias = 10 / total = 1290\n",
    "# * Dropout 은 파라미터 영향, Shape 영향 x\n",
    "# * MaxPooling은 추가적인 파라미터 생성x\n",
    "# all total = 320 + 18496 + 1179776 + 1290"
   ]
  },
  {
   "cell_type": "code",
   "execution_count": 5,
   "id": "11d2c275",
   "metadata": {},
   "outputs": [],
   "source": [
    "# 손실함수, optimizer\n",
    "model.compile(loss='categorical_crossentropy', optimizer='adam', metrics=['accuracy'])\n",
    "modelpath = 'deep-learning/data/mnist_cnn.hdf5'\n",
    "checkpointer = ModelCheckpoint(filepath=modelpath, monitor='val_loss', verbose=1, save_best_only=True)\n",
    "early_stopping = EarlyStopping(monitor='val_loss', patience=10)"
   ]
  },
  {
   "cell_type": "code",
   "execution_count": 6,
   "id": "725b5c0c",
   "metadata": {},
   "outputs": [
    {
     "name": "stdout",
     "output_type": "stream",
     "text": [
      "\n",
      "Epoch 1: val_loss improved from inf to 0.07666, saving model to deep-learning/data\\mnist_cnn.hdf5\n",
      "\n",
      "Epoch 2: val_loss improved from 0.07666 to 0.06046, saving model to deep-learning/data\\mnist_cnn.hdf5\n",
      "\n",
      "Epoch 3: val_loss improved from 0.06046 to 0.05141, saving model to deep-learning/data\\mnist_cnn.hdf5\n",
      "\n",
      "Epoch 4: val_loss improved from 0.05141 to 0.04679, saving model to deep-learning/data\\mnist_cnn.hdf5\n",
      "\n",
      "Epoch 5: val_loss improved from 0.04679 to 0.04477, saving model to deep-learning/data\\mnist_cnn.hdf5\n",
      "\n",
      "Epoch 6: val_loss improved from 0.04477 to 0.03783, saving model to deep-learning/data\\mnist_cnn.hdf5\n",
      "\n",
      "Epoch 7: val_loss did not improve from 0.03783\n",
      "\n",
      "Epoch 8: val_loss did not improve from 0.03783\n",
      "\n",
      "Epoch 9: val_loss did not improve from 0.03783\n",
      "\n",
      "Epoch 10: val_loss did not improve from 0.03783\n",
      "\n",
      "Epoch 11: val_loss did not improve from 0.03783\n",
      "\n",
      "Epoch 12: val_loss did not improve from 0.03783\n",
      "\n",
      "Epoch 13: val_loss did not improve from 0.03783\n",
      "\n",
      "Epoch 14: val_loss did not improve from 0.03783\n",
      "\n",
      "Epoch 15: val_loss did not improve from 0.03783\n",
      "\n",
      "Epoch 16: val_loss did not improve from 0.03783\n"
     ]
    }
   ],
   "source": [
    "history = model.fit(X_train, y_train, validation_split=0.25, epochs=30, batch_size=200, verbose=0, callbacks=[checkpointer, early_stopping])"
   ]
  },
  {
   "cell_type": "code",
   "execution_count": 7,
   "id": "0a8a486f",
   "metadata": {},
   "outputs": [
    {
     "name": "stdout",
     "output_type": "stream",
     "text": [
      "313/313 [==============================] - 2s 6ms/step - loss: 0.0347 - accuracy: 0.9905\n",
      "Test Accuracy : 0.9905\n"
     ]
    }
   ],
   "source": [
    "import os\n",
    "os.environ[\"KMP_DUPLICATE_LIB_OK\"]=\"TRUE\"\n",
    "print('Test Accuracy : %.4f' % (model.evaluate(X_test, y_test)[1]))"
   ]
  },
  {
   "cell_type": "code",
   "execution_count": 8,
   "id": "91425e5b",
   "metadata": {},
   "outputs": [
    {
     "data": {
      "image/png": "[encoded data removed]",
      "text/plain": [
       "<Figure size 640x480 with 1 Axes>"
      ]
     },
     "metadata": {},
     "output_type": "display_data"
    }
   ],
   "source": [
    "# 검증셋과 학습셋의 오차를 저장합니다. \n",
    "y_vloss = history.history['val_loss']\n",
    "y_loss = history.history['loss']\n",
    "\n",
    "# 그래프로 표현해 봅니다.\n",
    "x_len = np.arange(len(y_loss))\n",
    "plt.plot(x_len, y_vloss, marker='.', c=\"red\", label='Testset_loss')\n",
    "plt.plot(x_len, y_loss, marker='.', c=\"blue\", label='Trainset_loss')\n",
    "\n",
    "# 그래프에 그리드를 주고 레이블을 표시해 보겠습니다.\n",
    "plt.legend(loc='upper right')\n",
    "plt.grid()\n",
    "plt.xlabel('epoch')\n",
    "plt.ylabel('loss')\n",
    "plt.show()"
   ]
  }
 ],
 "metadata": {
  "kernelspec": {
   "display_name": "Python 3 (ipykernel)",
   "language": "python",
   "name": "python3"
  },
  "language_info": {
   "codemirror_mode": {
    "name": "ipython",
    "version": 3
   },
   "file_extension": ".py",
   "mimetype": "text/x-python",
   "name": "python",
   "nbconvert_exporter": "python",
   "pygments_lexer": "ipython3",
   "version": "3.8.13"
  }
 },
 "nbformat": 4,
 "nbformat_minor": 5
}
